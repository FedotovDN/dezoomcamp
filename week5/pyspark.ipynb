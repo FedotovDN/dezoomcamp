{
 "cells": [
  {
   "cell_type": "code",
   "execution_count": 1,
   "id": "07de9dc3",
   "metadata": {},
   "outputs": [
    {
     "name": "stderr",
     "output_type": "stream",
     "text": [
      "C:\\ProgramData\\Anaconda3\\lib\\site-packages\\numpy\\_distributor_init.py:30: UserWarning: loaded more than 1 DLL from .libs:\n",
      "C:\\ProgramData\\Anaconda3\\lib\\site-packages\\numpy\\.libs\\libopenblas.EL2C6PLE4ZYW3ECEVIV3OXXGRN2NRFM2.gfortran-win_amd64.dll\n",
      "C:\\ProgramData\\Anaconda3\\lib\\site-packages\\numpy\\.libs\\libopenblas.WCDJNK7YVMPZQ2ME2ZZHJJRJ3JIKNDB7.gfortran-win_amd64.dll\n",
      "  warnings.warn(\"loaded more than 1 DLL from .libs:\"\n"
     ]
    }
   ],
   "source": [
    "import pyspark\n",
    "from pyspark.sql import SparkSession"
   ]
  },
  {
   "cell_type": "code",
   "execution_count": 3,
   "id": "ca5bbb06",
   "metadata": {},
   "outputs": [],
   "source": [
    "spark = SparkSession.builder \\\n",
    "    .master(\"local[*]\") \\\n",
    "    .appName('test') \\\n",
    "    .getOrCreate()"
   ]
  },
  {
   "cell_type": "code",
   "execution_count": 4,
   "id": "931021a7",
   "metadata": {},
   "outputs": [],
   "source": [
    "df = spark.read \\\n",
    "    .option(\"header\", \"true\") \\\n",
    "    .csv('fhvhv_tripdata_2021-02.csv')"
   ]
  },
  {
   "cell_type": "code",
   "execution_count": 5,
   "id": "d44b7839",
   "metadata": {},
   "outputs": [
    {
     "data": {
      "text/plain": [
       "StructType(List(StructField(hvfhs_license_num,StringType,true),StructField(dispatching_base_num,StringType,true),StructField(pickup_datetime,StringType,true),StructField(dropoff_datetime,StringType,true),StructField(PULocationID,StringType,true),StructField(DOLocationID,StringType,true),StructField(SR_Flag,StringType,true)))"
      ]
     },
     "execution_count": 5,
     "metadata": {},
     "output_type": "execute_result"
    }
   ],
   "source": [
    "df.schema"
   ]
  },
  {
   "cell_type": "code",
   "execution_count": 6,
   "id": "6894312c",
   "metadata": {},
   "outputs": [],
   "source": [
    "import pandas as pd"
   ]
  },
  {
   "cell_type": "code",
   "execution_count": 7,
   "id": "f3ca771b",
   "metadata": {},
   "outputs": [],
   "source": [
    "df_pandas = pd.read_csv('fhvhv_tripdata_2021-02.csv')"
   ]
  },
  {
   "cell_type": "code",
   "execution_count": 10,
   "id": "d46437d2",
   "metadata": {},
   "outputs": [],
   "source": [
    "df_pandas = df_pandas.head(10)"
   ]
  },
  {
   "cell_type": "code",
   "execution_count": 11,
   "id": "f1066b4f",
   "metadata": {},
   "outputs": [
    {
     "data": {
      "text/plain": [
       "hvfhs_license_num        object\n",
       "dispatching_base_num     object\n",
       "pickup_datetime          object\n",
       "dropoff_datetime         object\n",
       "PULocationID              int64\n",
       "DOLocationID              int64\n",
       "SR_Flag                 float64\n",
       "dtype: object"
      ]
     },
     "execution_count": 11,
     "metadata": {},
     "output_type": "execute_result"
    }
   ],
   "source": [
    "df_pandas.dtypes"
   ]
  },
  {
   "cell_type": "code",
   "execution_count": 12,
   "id": "f8413c9d",
   "metadata": {},
   "outputs": [
    {
     "data": {
      "text/plain": [
       "StructType(List(StructField(hvfhs_license_num,StringType,true),StructField(dispatching_base_num,StringType,true),StructField(pickup_datetime,StringType,true),StructField(dropoff_datetime,StringType,true),StructField(PULocationID,LongType,true),StructField(DOLocationID,LongType,true),StructField(SR_Flag,DoubleType,true)))"
      ]
     },
     "execution_count": 12,
     "metadata": {},
     "output_type": "execute_result"
    }
   ],
   "source": [
    "spark.createDataFrame(df_pandas).schema"
   ]
  },
  {
   "cell_type": "markdown",
   "id": "80f252c1",
   "metadata": {},
   "source": [
    "Integer - 4 bytes\n",
    "Long - 8 bytes"
   ]
  },
  {
   "cell_type": "code",
   "execution_count": 13,
   "id": "16937bfd",
   "metadata": {},
   "outputs": [],
   "source": [
    "from pyspark.sql import types"
   ]
  },
  {
   "cell_type": "code",
   "execution_count": 52,
   "id": "57a7eb5f",
   "metadata": {},
   "outputs": [],
   "source": [
    "schema = types.StructType([\n",
    "                types.StructField('hvfhs_license_num', types.StringType(), True),\n",
    "                types.StructField('dispatching_base_num', types.StringType(), True),\n",
    "                types.StructField('pickup_datetime', types.TimestampType(), True),\n",
    "                types.StructField('dropoff_datetime', types.TimestampType(), True),\n",
    "                types.StructField('PULocationID', types.IntegerType(), True),\n",
    "                types.StructField('DOLocationID', types.IntegerType(), True),\n",
    "                types.StructField('SR_Flag', types.StringType(), True)\n",
    "                ]\n",
    "          )"
   ]
  },
  {
   "cell_type": "code",
   "execution_count": 53,
   "id": "f94052ae",
   "metadata": {},
   "outputs": [],
   "source": [
    "df = spark.read \\\n",
    "    .option(\"header\", \"true\") \\\n",
    "    .schema(schema) \\\n",
    "    .csv('fhvhv_tripdata_2021-02.csv')"
   ]
  },
  {
   "cell_type": "code",
   "execution_count": 54,
   "id": "c270d9d6",
   "metadata": {},
   "outputs": [],
   "source": [
    "df = df.repartition(24)"
   ]
  },
  {
   "cell_type": "code",
   "execution_count": 55,
   "id": "7796c2b2",
   "metadata": {},
   "outputs": [],
   "source": [
    "df.write.parquet('fhvhv/2021/02/', mode='overwrite')"
   ]
  },
  {
   "cell_type": "code",
   "execution_count": 56,
   "id": "c3cab876",
   "metadata": {},
   "outputs": [],
   "source": [
    "df = spark.read.parquet('fhvhv/2021/02')"
   ]
  },
  {
   "cell_type": "code",
   "execution_count": 57,
   "id": "203b5627",
   "metadata": {},
   "outputs": [
    {
     "name": "stdout",
     "output_type": "stream",
     "text": [
      "root\n",
      " |-- hvfhs_license_num: string (nullable = true)\n",
      " |-- dispatching_base_num: string (nullable = true)\n",
      " |-- pickup_datetime: timestamp (nullable = true)\n",
      " |-- dropoff_datetime: timestamp (nullable = true)\n",
      " |-- PULocationID: integer (nullable = true)\n",
      " |-- DOLocationID: integer (nullable = true)\n",
      " |-- SR_Flag: string (nullable = true)\n",
      "\n"
     ]
    }
   ],
   "source": [
    "df.printSchema()"
   ]
  },
  {
   "cell_type": "code",
   "execution_count": 58,
   "id": "e6967c8a",
   "metadata": {},
   "outputs": [
    {
     "name": "stdout",
     "output_type": "stream",
     "text": [
      "+-------------------+-------------------+------------+------------+\n",
      "|    pickup_datetime|   dropoff_datetime|PULocationID|DOLocationID|\n",
      "+-------------------+-------------------+------------+------------+\n",
      "|2021-02-15 04:40:44|2021-02-15 04:59:52|          37|          76|\n",
      "|2021-02-15 01:16:18|2021-02-15 01:27:37|          79|         170|\n",
      "|2021-02-15 03:18:14|2021-02-15 03:27:04|          72|          71|\n",
      "|2021-02-15 12:04:08|2021-02-15 12:29:07|          97|          37|\n",
      "|2021-02-15 09:01:44|2021-02-15 09:12:20|         195|          33|\n",
      "|2021-02-15 11:23:35|2021-02-15 11:36:23|          41|          42|\n",
      "|2021-02-15 10:11:29|2021-02-15 10:21:18|          26|          26|\n",
      "|2021-02-15 08:27:23|2021-02-15 08:45:18|         132|         138|\n",
      "|2021-02-15 07:22:54|2021-02-15 07:39:33|          17|          25|\n",
      "|2021-02-15 09:12:51|2021-02-15 09:19:23|         137|         233|\n",
      "|2021-02-15 00:56:52|2021-02-15 01:23:28|           7|         265|\n",
      "|2021-02-15 11:48:38|2021-02-15 12:24:18|         234|          51|\n",
      "|2021-02-15 11:49:21|2021-02-15 11:56:28|         217|          17|\n",
      "|2021-02-15 10:56:03|2021-02-15 11:18:17|          61|          65|\n",
      "|2021-02-15 12:05:13|2021-02-15 12:36:09|         198|         242|\n",
      "|2021-02-15 00:37:18|2021-02-15 00:49:46|          79|          80|\n",
      "|2021-02-15 09:34:37|2021-02-15 09:47:24|          32|          60|\n",
      "|2021-02-15 08:35:56|2021-02-15 08:43:55|         167|         247|\n",
      "|2021-02-15 09:13:46|2021-02-15 09:43:50|           3|         265|\n",
      "|2021-02-15 01:16:08|2021-02-15 01:32:17|         239|         166|\n",
      "+-------------------+-------------------+------------+------------+\n",
      "only showing top 20 rows\n",
      "\n"
     ]
    }
   ],
   "source": [
    "df.select('pickup_datetime', 'dropoff_datetime', 'PULocationID', 'DOLocationID') \\\n",
    "  .filter(df.pickup_datetime >= '2021-02-15') \\\n",
    "  .filter(df.pickup_datetime < '2021-02-16').show()"
   ]
  },
  {
   "cell_type": "code",
   "execution_count": 59,
   "id": "e6a4bc74",
   "metadata": {},
   "outputs": [],
   "source": [
    "df.registerTempTable('trips_data')"
   ]
  },
  {
   "cell_type": "code",
   "execution_count": 60,
   "id": "0f959f0d",
   "metadata": {},
   "outputs": [
    {
     "name": "stdout",
     "output_type": "stream",
     "text": [
      "+------+\n",
      "|   cnt|\n",
      "+------+\n",
      "|367170|\n",
      "+------+\n",
      "\n"
     ]
    }
   ],
   "source": [
    "spark.sql(\"\"\"\n",
    "SELECT\n",
    "    count(*) cnt\n",
    "FROM\n",
    "    trips_data\n",
    "WHERE pickup_datetime >= '2021-02-15' and pickup_datetime < '2021-02-16'\n",
    "\"\"\").show()"
   ]
  },
  {
   "cell_type": "code",
   "execution_count": 83,
   "id": "0a70f05f",
   "metadata": {},
   "outputs": [
    {
     "name": "stdout",
     "output_type": "stream",
     "text": [
      "+-------------------+-----+\n",
      "|    pickup_datetime|  dur|\n",
      "+-------------------+-----+\n",
      "|2021-02-11 13:40:44|75540|\n",
      "|2021-02-17 15:54:53|57221|\n",
      "|2021-02-20 12:08:15|44039|\n",
      "|2021-02-03 20:24:25|40653|\n",
      "|2021-02-19 23:17:44|37577|\n",
      "|2021-02-25 17:13:35|35010|\n",
      "|2021-02-20 01:36:13|34806|\n",
      "|2021-02-18 15:24:19|34612|\n",
      "|2021-02-18 01:31:20|34555|\n",
      "|2021-02-10 20:51:39|34169|\n",
      "|2021-02-10 01:56:17|32476|\n",
      "|2021-02-25 09:18:18|32439|\n",
      "|2021-02-21 19:59:13|32223|\n",
      "|2021-02-09 18:36:13|32087|\n",
      "|2021-02-06 09:48:09|31447|\n",
      "|2021-02-02 09:42:30|30913|\n",
      "|2021-02-10 10:12:08|30856|\n",
      "|2021-02-09 13:30:13|30732|\n",
      "|2021-02-21 22:50:52|30660|\n",
      "|2021-02-05 21:32:33|30511|\n",
      "+-------------------+-----+\n",
      "only showing top 20 rows\n",
      "\n"
     ]
    }
   ],
   "source": [
    "spark.sql(\"\"\"\n",
    "SELECT\n",
    "    pickup_datetime, cast(dropoff_datetime as long) - cast(pickup_datetime as long) dur\n",
    "FROM\n",
    "    trips_data\n",
    "order by dur desc\n",
    "\"\"\").show()"
   ]
  },
  {
   "cell_type": "code",
   "execution_count": 84,
   "id": "10ba2014",
   "metadata": {},
   "outputs": [
    {
     "name": "stdout",
     "output_type": "stream",
     "text": [
      "+--------------------+-------+\n",
      "|dispatching_base_num|    cnt|\n",
      "+--------------------+-------+\n",
      "|              B02510|3233664|\n",
      "|              B02764| 965568|\n",
      "|              B02872| 882689|\n",
      "|              B02875| 685390|\n",
      "|              B02765| 559768|\n",
      "|              B02869| 429720|\n",
      "|              B02887| 322331|\n",
      "|              B02871| 312364|\n",
      "|              B02864| 311603|\n",
      "|              B02866| 311089|\n",
      "|              B02878| 305185|\n",
      "|              B02682| 303255|\n",
      "|              B02617| 274510|\n",
      "|              B02883| 251617|\n",
      "|              B02884| 244963|\n",
      "|              B02882| 232173|\n",
      "|              B02876| 215693|\n",
      "|              B02879| 210137|\n",
      "|              B02867| 200530|\n",
      "|              B02877| 198938|\n",
      "+--------------------+-------+\n",
      "only showing top 20 rows\n",
      "\n"
     ]
    }
   ],
   "source": [
    "spark.sql(\"\"\"\n",
    "SELECT\n",
    "    dispatching_base_num, count(*) cnt\n",
    "FROM\n",
    "    trips_data\n",
    "group by dispatching_base_num\n",
    "order by cnt desc\n",
    "\"\"\").show()"
   ]
  },
  {
   "cell_type": "code",
   "execution_count": 85,
   "id": "2ad80591",
   "metadata": {},
   "outputs": [
    {
     "name": "stdout",
     "output_type": "stream",
     "text": [
      "+------------+------------+-----+\n",
      "|PULocationID|DOLocationID|  cnt|\n",
      "+------------+------------+-----+\n",
      "|          76|          76|45041|\n",
      "|          26|          26|37329|\n",
      "|          39|          39|28026|\n",
      "|          61|          61|25976|\n",
      "|          14|          14|17934|\n",
      "|         129|         129|14688|\n",
      "|           7|           7|14688|\n",
      "|          42|          42|14481|\n",
      "|          37|          37|14424|\n",
      "|          89|          89|13976|\n",
      "|         216|         216|13716|\n",
      "|          35|          35|12829|\n",
      "|         132|         265|12542|\n",
      "|         188|          61|11814|\n",
      "|          95|          95|11548|\n",
      "|          36|          37|11491|\n",
      "|          37|          36|11487|\n",
      "|          61|         188|11462|\n",
      "|          61|         225|11342|\n",
      "|         188|         188|11308|\n",
      "+------------+------------+-----+\n",
      "only showing top 20 rows\n",
      "\n"
     ]
    }
   ],
   "source": [
    "spark.sql(\"\"\"\n",
    "SELECT\n",
    "    PULocationID, DOLocationID, count(*) cnt\n",
    "FROM\n",
    "    trips_data\n",
    "group by PULocationID, DOLocationID\n",
    "order by cnt desc\n",
    "\"\"\").show()"
   ]
  },
  {
   "cell_type": "code",
   "execution_count": null,
   "id": "aa1b0e18",
   "metadata": {},
   "outputs": [],
   "source": []
  }
 ],
 "metadata": {
  "kernelspec": {
   "display_name": "Python 3",
   "language": "python",
   "name": "python3"
  },
  "language_info": {
   "codemirror_mode": {
    "name": "ipython",
    "version": 3
   },
   "file_extension": ".py",
   "mimetype": "text/x-python",
   "name": "python",
   "nbconvert_exporter": "python",
   "pygments_lexer": "ipython3",
   "version": "3.8.8"
  }
 },
 "nbformat": 4,
 "nbformat_minor": 5
}
